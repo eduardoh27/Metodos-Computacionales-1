{
 "cells": [
  {
   "cell_type": "code",
   "execution_count": null,
   "source": [
    "import numpy as np\r\n",
    "\r\n",
    "def getTriangular(M):\r\n",
    "    n = M.shape[1]\r\n",
    "    MT = np.zeros(shape=(n,n))\r\n",
    "    MT = M.copy()\r\n",
    "\r\n",
    "    for i in range(1,MT.shape[0]):\r\n",
    "        contador = 0\r\n",
    "        for j in range(i):\r\n",
    "            delta = - MT[i][j] / MT[contador][j]\r\n",
    "            MT[i] = MT[i] + delta*MT[contador]\r\n",
    "            contador += 1    \r\n",
    "    \r\n",
    "    return MT\r\n",
    "\r\n",
    "\r\n",
    "M = np.array( [[3.0,-1.0,-1.0],[-1.0,3.0,1.0],[2.0,1.0,4.0]] )\r\n",
    "print(\"Matriz:\\n\",M)\r\n",
    "\r\n",
    "print(\"\\nLa matriz triangular superior es:\\n\",np.round(getTriangular(M),3))"
   ],
   "outputs": [],
   "metadata": {}
  }
 ],
 "metadata": {
  "orig_nbformat": 4,
  "language_info": {
   "name": "python"
  }
 },
 "nbformat": 4,
 "nbformat_minor": 2
}
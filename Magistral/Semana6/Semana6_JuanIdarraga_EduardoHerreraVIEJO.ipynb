{
 "cells": [
  {
   "cell_type": "code",
   "execution_count": null,
   "source": [
    "import numpy as np\r\n",
    "\r\n",
    "def sacar_matriz_triangular(M: list):\r\n",
    "    l1=M[0].copy()\r\n",
    "    d= float(l1[0])\r\n",
    "    \r\n",
    "    for j in range(M.shape[0]):\r\n",
    "        M[0][j]= M[0][j] / d\r\n",
    "        \r\n",
    "    l2=M[1].copy()\r\n",
    "    e= float(l2[0])    \r\n",
    "    for j in range(M.shape[1]):\r\n",
    "        M[1][j]=M[1][j]-e*M[0][j]\r\n",
    "    \r\n",
    "    \r\n",
    "    l3=M[2].copy()\r\n",
    "    f= float(l3[0])\r\n",
    "    for j in range(M.shape[1]):\r\n",
    "         M[2][j]=float(M[2][j]-f*M[0][j])\r\n",
    "    \r\n",
    "    l4=M[1].copy()\r\n",
    "    g= float(l4[1])\r\n",
    "    \r\n",
    "    l5=M[2].copy()\r\n",
    "    h= float(l5[1])\r\n",
    "    \r\n",
    "    for j in range(M.shape[1]):\r\n",
    "         M[2][j]=M[2][j]-M[1][j]*(h/g)\r\n",
    "    \r\n",
    "    print(\"La matriz queda: \")\r\n",
    "    print(M)\r\n",
    "\r\n",
    "\r\n",
    "M = np.array( [[3.0,-1.0,-1.0],[-1.0,3.0,1.0],[2.0,1.0,4.0]] )\r\n",
    "print(M)\r\n",
    "sacar_matriz_triangular(M)\r\n"
   ],
   "outputs": [],
   "metadata": {}
  }
 ],
 "metadata": {
  "orig_nbformat": 4,
  "language_info": {
   "name": "python"
  }
 },
 "nbformat": 4,
 "nbformat_minor": 2
}
{
 "cells": [
  {
   "cell_type": "code",
   "execution_count": 393,
   "metadata": {},
   "outputs": [],
   "source": [
    "import numpy as np\n",
    "import matplotlib.pyplot as plt\n",
    "import pandas as pd\n",
    "from scipy.stats import chi2\n",
    "from scipy.stats import norm\n",
    "from scipy.stats import exponweib\n",
    "from tqdm import tqdm\n"
   ]
  },
  {
   "cell_type": "code",
   "execution_count": null,
   "metadata": {},
   "outputs": [],
   "source": []
  },
  {
   "cell_type": "code",
   "execution_count": 394,
   "metadata": {},
   "outputs": [
    {
     "name": "stdout",
     "output_type": "stream",
     "text": [
      "\n",
      "Tarea Semana 13 Métodos Computacionales 1\n",
      "\n",
      "1.1.1 Binomial\n",
      "\n",
      "a)\n",
      "El parametro p de la distribución es: 0.49460000000000004\n",
      "\n",
      "b)\n",
      "La probabilidad de obtener 0 caras en un experimento es: 0.033\n",
      "La probabilidad de obtener 1 caras en un experimento es: 0.1613\n",
      "La probabilidad de obtener 2 caras en un experimento es: 0.3158\n",
      "La probabilidad de obtener 3 caras en un experimento es: 0.3091\n",
      "La probabilidad de obtener 4 caras en un experimento es: 0.1512\n",
      "La probabilidad de obtener 5 caras en un experimento es: 0.0296\n",
      "\n",
      "c)\n",
      "La frecuencia esperada para 0 caras es: 33\n",
      "La frecuencia esperada para 1 caras es: 161\n",
      "La frecuencia esperada para 2 caras es: 316\n",
      "La frecuencia esperada para 3 caras es: 309\n",
      "La frecuencia esperada para 4 caras es: 151\n",
      "La frecuencia esperada para 5 caras es: 30\n"
     ]
    }
   ],
   "source": [
    "print(\"\\nTarea Semana 13 Métodos Computacionales 1\")\n",
    "\n",
    "# 1.1.1\n",
    "print(\"\\n1.1.1 Binomial\")\n",
    "\n",
    "url = \"https://raw.githubusercontent.com/asegura4488/Database/main/MetodosComputacionalesReforma/BinomialCoins.csv\"\n",
    "data = pd.read_csv(url)\n",
    "\n",
    "\n",
    "Errores=np.array(data[\"NCaras\"])\n",
    "ObsFreq=np.array(data[\"ObsFreq\"])\n",
    "\n",
    "NMonedas = 5\n",
    "NLanzamientos = 1000\n",
    "\n",
    "\n",
    "# a\n",
    "\n",
    "media = 0\n",
    "\n",
    "for i in range(len(Errores)):\n",
    "    media+=Errores[i]*(ObsFreq[i]/NLanzamientos)\n",
    "\n",
    "p = media/NMonedas # media = np\n",
    "print(\"\\na)\")\n",
    "print(f\"El parametro p de la distribución es: {p}\")\n",
    "\n",
    "\n",
    "# b\n",
    "\n",
    "prob_caras=[]\n",
    "n = NMonedas\n",
    "for x in Errores:\n",
    "    C = np.math.factorial(n)/(np.math.factorial(x)*np.math.factorial(n-x))  \n",
    "    Prob = C * (p**x) * (1-p)**(NMonedas-x)\n",
    "    prob_caras.append(Prob)\n",
    "\n",
    "print(\"\\nb)\")   \n",
    "for i in range(len(prob_caras)):\n",
    "    print(f\"La probabilidad de obtener {Errores[i]} caras en un experimento es: {round(prob_caras[i],4)}\")\n",
    "\n",
    "\n",
    "# c\n",
    "    \n",
    "ExpFreq = []\n",
    "for i in range(len(Errores)):\n",
    "    freq = prob_caras[i]*NLanzamientos\n",
    "    ExpFreq.append(freq)\n",
    "\n",
    "print(\"\\nc)\")\n",
    "for i in range(len(Errores)):\n",
    "    print(f\"La frecuencia esperada para {Errores[i]} caras es: {round(ExpFreq[i])}\")\n"
   ]
  },
  {
   "cell_type": "code",
   "execution_count": 395,
   "metadata": {},
   "outputs": [
    {
     "name": "stdout",
     "output_type": "stream",
     "text": [
      "\n",
      "d)\n"
     ]
    },
    {
     "data": {
      "image/png": "[encoded data removed]",
      "text/plain": [
       "<Figure size 792x360 with 2 Axes>"
      ]
     },
     "metadata": {
      "needs_background": "light"
     },
     "output_type": "display_data"
    }
   ],
   "source": [
    "# d\n",
    "\n",
    "L=[]\n",
    "for i in range(len(Errores)):\n",
    "    for j in range(ObsFreq[i]):\n",
    "        L.append(Errores[i])\n",
    "\n",
    "x = np.linspace(0,6,7)\n",
    "h, bins = np.histogram(L, bins=x, density=False)\n",
    "\n",
    "w = np.diff(bins)\n",
    "fig = plt.figure(figsize=(11,5))\n",
    "\n",
    "\n",
    "ax = fig.add_subplot(1,2,1)\n",
    "ax.bar( bins[:-1], h, color='turquoise', width=w, ec='k' )\n",
    "ax.set_title('Frecuencias Observadas', fontsize=20,)\n",
    "ax.set_xlabel('Caras', fontsize=18)\n",
    "ax.set_ylabel('Frecuencias', fontsize=16)\n",
    "#plt.show()\n",
    "\n",
    "L2=[]\n",
    "\n",
    "nb=[]\n",
    "for i in range(len(ExpFreq)):\n",
    "    nb.append(int(round(ExpFreq[i],0)))\n",
    "   \n",
    "for i in range(len(Errores)):\n",
    "    for j in range(nb[i]):\n",
    "        L2.append(Errores[i])\n",
    "\n",
    "x = np.linspace(0,6,7)\n",
    "h, bins = np.histogram(L2, bins=x, density=False)\n",
    "w = np.diff(bins)\n",
    "ax1 = fig.add_subplot(1,2,2)\n",
    "ax1.bar( bins[:-1], h, color='darkviolet', width=w, ec='k' )\n",
    "ax1.set_title('Frecuencias Esperadas', fontsize=20)\n",
    "ax1.set_xlabel('Caras', fontsize=18)\n",
    "ax1.set_ylabel('Frecuencias', fontsize=16)\n",
    "\n",
    "print(\"\\nd)\")"
   ]
  },
  {
   "cell_type": "code",
   "execution_count": 396,
   "metadata": {},
   "outputs": [
    {
     "name": "stdout",
     "output_type": "stream",
     "text": [
      "\n",
      "e)\n",
      "El estadístico de prueba chi cuadrado es: 9.23\n",
      "\n",
      "f)\n",
      "El P value para estas distribuciones es: 0.05571072544279565\n",
      "\n",
      "g)\n",
      "El valor critico de la disrtribución chi2 es: 9.487729036781154\n",
      "\n",
      "h,i)\n",
      "En conclusión, como el estadístico de prueba es menor que el valor crítico, no se rechaza la hipótesis nula.\n",
      "Es decir, los datos siguen una distribución binomial con un nivel de confianza de 95%\n"
     ]
    }
   ],
   "source": [
    "# e\n",
    "\n",
    "sum_chi = 0\n",
    "for i in range(len(Errores)):\n",
    "    r = ((ObsFreq[i]-ExpFreq[i])**2)/ExpFreq[i] \n",
    "    sum_chi += r\n",
    "\n",
    "print(\"\\ne)\")\n",
    "print(f\"El estadístico de prueba chi cuadrado es: {round(sum_chi,2)}\")\n",
    "\n",
    "df = 4\n",
    "prob = chi2.cdf(sum_chi, df = df)\n",
    "pvalue = 1 - prob\n",
    "print(\"\\nf)\")\n",
    "print(f'El P value para estas distribuciones es: {pvalue}')\n",
    "\n",
    "upper = chi2.ppf(0.95, df=df)\n",
    "print(\"\\ng)\")\n",
    "print(f\"El valor critico de la disrtribución chi2 es: {upper}\")\n",
    "\n",
    "print(\"\\nh,i)\")\n",
    "#print(\"En conclusión, se calculo el Pvalue este dio bastante pequeño lo cual nos lleva a dudar de la hipotesis nula, sin embargo, tambien se realizo la prueba de hipotesis X2 y como este calculo no supera el valor critico se puede decir que no se rechaza la hipótesis nula. Es decir, la secuencia de datos sigue una distribución binomial.\")\n",
    "print(\"En conclusión, como el estadístico de prueba es menor que el valor crítico, no se rechaza la hipótesis nula.\")\n",
    "print(\"Es decir, los datos siguen una distribución binomial con un nivel de confianza de 95%\")\n"
   ]
  },
  {
   "cell_type": "code",
   "execution_count": null,
   "metadata": {},
   "outputs": [],
   "source": []
  },
  {
   "cell_type": "code",
   "execution_count": 397,
   "metadata": {},
   "outputs": [
    {
     "name": "stdout",
     "output_type": "stream",
     "text": [
      "\n",
      "1.1.2 Poisson\n",
      "\n",
      "a)\n",
      "El paránetro λ de la distribución es: 3.048\n",
      "\n",
      "b)\n",
      " La probabilidad de obtener 0 fallos en una moto es: 0.04747\n",
      " La probabilidad de obtener 1 fallos en una moto es: 0.14467\n",
      " La probabilidad de obtener 2 fallos en una moto es: 0.22045\n",
      " La probabilidad de obtener 3 fallos en una moto es: 0.22396\n",
      " La probabilidad de obtener 4 fallos en una moto es: 0.17064\n",
      " La probabilidad de obtener 5 fallos en una moto es: 0.10401\n",
      " La probabilidad de obtener 6 fallos en una moto es: 0.05283\n",
      " La probabilidad de obtener 7 fallos en una moto es: 0.023\n",
      " La probabilidad de obtener 8 fallos en una moto es: 0.00876\n",
      " La probabilidad de obtener 9 fallos en una moto es: 0.00297\n",
      "\n",
      "c)\n",
      "La frecuencia esperada para 0 errores es: 20.88533951424627\n",
      "La frecuencia esperada para 1 errores es: 63.65281883773694\n",
      "La frecuencia esperada para 2 errores es: 96.9982159788696\n",
      "La frecuencia esperada para 3 errores es: 98.54136941489709\n",
      "La frecuencia esperada para 4 errores es: 75.08180476441878\n",
      "La frecuencia esperada para 5 errores es: 45.76577281322072\n",
      "La frecuencia esperada para 6 errores es: 23.246932326715527\n",
      "La frecuencia esperada para 7 errores es: 10.121472808482315\n",
      "La frecuencia esperada para 8 errores es: 3.8559360898223822\n",
      "La frecuencia esperada para 9 errores es: 1.3057601758716706\n"
     ]
    }
   ],
   "source": [
    "# 1.1.2\n",
    "print(\"\\n1.1.2 Poisson\")\n",
    "\n",
    "url = \"https://raw.githubusercontent.com/asegura4488/Database/main/MetodosComputacionalesReforma/PoissonCars.csv\"\n",
    "data = pd.read_csv(url)\n",
    "\n",
    "Errores=np.array(data[\"Errores\"])\n",
    "ObsFreq=np.array(data[\"ObsFreq\"])\n",
    "\n",
    "NMotos = 440\n",
    "\n",
    "# a\n",
    "\n",
    "media = 0\n",
    "\n",
    "for i in range(len(Errores)):\n",
    "    media+=Errores[i]*(ObsFreq[i]/NMotos)\n",
    "\n",
    "lamda = media\n",
    "print(\"\\na)\")\n",
    "print(f\"El paránetro λ de la distribución es: {round(lamda,3)}\")\n",
    "\n",
    "\n",
    "# b\n",
    "\n",
    "prob_caras=[]\n",
    "\n",
    "for k in Errores:\n",
    "    prob = np.exp(-lamda) * lamda**k / np.math.factorial(k)  \n",
    "    prob_caras.append(prob)\n",
    "\n",
    "print(\"\\nb)\")    \n",
    "for i in range(len(prob_caras)):\n",
    "    print(f\" La probabilidad de obtener {Errores[i]} fallos en una moto es: {round(prob_caras[i],5)}\")\n",
    "    \n",
    "# c\n",
    "\n",
    "ExpFreq=[]\n",
    "for i in range(len(Errores)):\n",
    "    freq = prob_caras[i]*NMotos\n",
    "    ExpFreq.append(freq)\n",
    "\n",
    "print(\"\\nc)\")\n",
    "for i in range(len(Errores)):\n",
    "    print(f\"La frecuencia esperada para {Errores[i]} errores es: {ExpFreq[i]}\")"
   ]
  },
  {
   "cell_type": "code",
   "execution_count": 398,
   "metadata": {},
   "outputs": [
    {
     "name": "stdout",
     "output_type": "stream",
     "text": [
      "\n",
      "d)\n"
     ]
    },
    {
     "data": {
      "image/png": "[encoded data removed]",
      "text/plain": [
       "<Figure size 792x432 with 2 Axes>"
      ]
     },
     "metadata": {
      "needs_background": "light"
     },
     "output_type": "display_data"
    }
   ],
   "source": [
    "# d\n",
    "\n",
    "L=[]\n",
    "for i in range(len(Errores)):\n",
    "    for j in range(ObsFreq[i]):\n",
    "        L.append(Errores[i])\n",
    "\n",
    "x = np.linspace(0,10,11)\n",
    "h, bins = np.histogram(L, bins=x, density=False)\n",
    "w = np.diff(bins)\n",
    "\n",
    "fig = plt.figure(figsize=(11,6))\n",
    "ax = fig.add_subplot(1,2,1)\n",
    "ax.bar( bins[:-1], h, color='crimson', width=w, ec='k' )\n",
    "ax.set_title('Frecuencias Observadas', fontsize=20)\n",
    "ax.set_xlabel('Fallas', fontsize=18)\n",
    "ax.set_ylabel('Frecuencias', fontsize=16)\n",
    "\n",
    "L2=[]\n",
    "\n",
    "nb=[]\n",
    "for i in range(len(ExpFreq)):\n",
    "    nb.append(int(round(ExpFreq[i],0)))\n",
    "   \n",
    "for i in range(len(Errores)):\n",
    "    for j in range(nb[i]):\n",
    "        L2.append(Errores[i])\n",
    "\n",
    "x = np.linspace(0,10,11)\n",
    "h, bins = np.histogram(L2, bins=x, density=False)\n",
    "w = np.diff(bins)\n",
    "ax1 = fig.add_subplot(1,2,2)\n",
    "ax1.bar( bins[:-1], h, color='palegreen', width=w, ec='k' )\n",
    "ax1.set_title('Frecuencias Esperadas', fontsize=20)\n",
    "ax1.set_xlabel('Fallas', fontsize=18)\n",
    "ax1.set_ylabel('Frecuencias', fontsize=16)\n",
    "\n",
    "print(\"\\nd)\")"
   ]
  },
  {
   "cell_type": "code",
   "execution_count": 399,
   "metadata": {},
   "outputs": [
    {
     "name": "stdout",
     "output_type": "stream",
     "text": [
      "\n",
      "e)\n",
      " El valor del estadístico de prueba chi cuadrado es: 6.07\n",
      "\n",
      "f)\n",
      " El p-value para estas distribuciones es: 0.6395980762702841\n",
      "\n",
      "g)\n",
      "El valor crítico de la distribución chi cuadrado es: 15.50731305586545\n",
      "\n",
      "h, i)\n",
      "En conclusión, como el estadístico de prueba es menor que el valor crítico, no se rechaza la hipótesis nula.\n",
      "Es decir, los datos siguen una distribución de poisson con un nivel de confianza de 95%\n"
     ]
    }
   ],
   "source": [
    "# e\n",
    "\n",
    "sum_chi = 0\n",
    "for i in range(len(Errores)):\n",
    "    r = ((ObsFreq[i]-ExpFreq[i])**2)/ExpFreq[i] \n",
    "    sum_chi += r\n",
    "\n",
    "print(\"\\ne)\")\n",
    "print(f\" El valor del estadístico de prueba chi cuadrado es: {round(sum_chi,2)}\")\n",
    "\n",
    "\n",
    "# f\n",
    "\n",
    "gl=8\n",
    "prob = chi2.cdf(sum_chi,df = gl)\n",
    "pvalue = 1 - prob\n",
    "print(\"\\nf)\")\n",
    "print(f' El p-value para estas distribuciones es: {pvalue}')\n",
    "\n",
    "\n",
    "# g\n",
    "\n",
    "upper = chi2.ppf(0.95, df=gl)\n",
    "print(\"\\ng)\")\n",
    "print(f\"El valor crítico de la distribución chi cuadrado es: {upper}\")\n",
    "\n",
    "# h, i\n",
    "\n",
    "print(\"\\nh, i)\")\n",
    "print(\"En conclusión, como el estadístico de prueba es menor que el valor crítico, no se rechaza la hipótesis nula.\")\n",
    "print(\"Es decir, los datos siguen una distribución de poisson con un nivel de confianza de 95%\")\n"
   ]
  },
  {
   "cell_type": "code",
   "execution_count": null,
   "metadata": {},
   "outputs": [],
   "source": []
  },
  {
   "cell_type": "code",
   "execution_count": 400,
   "metadata": {},
   "outputs": [
    {
     "name": "stdout",
     "output_type": "stream",
     "text": [
      "\n",
      "1.1.3 Problema modelo\n",
      "[31, 18, 37, 20, 36, 15, 24, 120, 14, 28, 14, 25, 19, 80, 41, 95, 55, 124, 54, 55, 55, 46, 68, 108, 21, 22, 42, 71, 28, 34, 21, 36, 32, 32, 59, 20, 49, 73, 48, 17, 26, 24, 110, 20, 38, 20, 62, 47, 55, 45, 28, 96, 19, 59, 107, 33, 23, 46, 19, 44, 26, 135, 33, 37, 45, 68, 38, 70, 28, 52, 44, 99, 19, 38, 17, 54, 15, 32, 46, 16, 71, 34, 10, 34, 45, 41, 19, 38, 18, 43, 48, 18, 69, 33, 56, 160, 37, 48, 24, 26, 36, 19, 12, 27, 62, 78, 31, 18, 27, 74, 25, 26, 71, 23, 28, 74, 46, 60, 136, 37, 72, 44, 15, 42, 36, 85, 25, 65, 69, 15, 53, 53, 68, 24, 63, 24, 73, 12, 67, 34, 84, 28, 65, 20, 75, 30, 29, 40, 23, 27, 42, 16, 52, 46, 98, 123, 15, 127, 59, 78, 53, 57, 19, 30, 51, 71, 31, 61, 95, 29, 86, 30, 54, 28, 17, 28, 54, 55, 53, 130, 24, 27, 104, 157, 58, 28, 62, 60, 31, 101, 35, 64, 48, 46, 22, 37, 42, 22, 23, 33]\n"
     ]
    }
   ],
   "source": [
    "# 1.1.3\n",
    "print(\"\\n1.1.3 Problema modelo\")\n",
    "\n",
    "def Actualizar_posc(theta: float, x: float, y: float):\n",
    "    lstep=0.4\n",
    "    x += lstep * np.cos(theta)\n",
    "    y += lstep * np.sin(theta)\n",
    "    \n",
    "    return x,y\n",
    "\n",
    "\n",
    "def experimento()->int:\n",
    "    #ang = np.random.uniform( 0,2*np.pi, size = 3000 )\n",
    "    x=0\n",
    "    y=0\n",
    "    pasos=0\n",
    "    while (x<=2.5 and y<=2.5 and x>= -2.5 and y>=-2.5):\n",
    "        ang = np.random.uniform( 0 , 2*np.pi)\n",
    "        x,y =Actualizar_posc(ang,x,y)\n",
    "        pasos+=1\n",
    "    return pasos\n",
    "\n",
    "\n",
    "p=[]\n",
    "NSteps = 200\n",
    "for i in range(NSteps):\n",
    "    p.append(experimento())\n",
    "print(p)\n",
    "\n",
    "min_ = np.min(p)\n",
    "max_ = np.max(p)\n",
    "h = 15"
   ]
  },
  {
   "cell_type": "code",
   "execution_count": 401,
   "metadata": {},
   "outputs": [
    {
     "name": "stdout",
     "output_type": "stream",
     "text": [
      "a=2.2725310111665395, b=0.9044408437272156, c=9.28614504582223, d=22.03086387107497\n",
      "El valor medio de pasos según el ajuste de SciPy es 47.36748934377762\n"
     ]
    },
    {
     "data": {
      "image/png": "[encoded data removed]",
      "text/plain": [
       "<Figure size 504x504 with 1 Axes>"
      ]
     },
     "metadata": {
      "needs_background": "light"
     },
     "output_type": "display_data"
    }
   ],
   "source": [
    "# a\n",
    "\n",
    "bins = np.arange(min_,max_+h,h)\n",
    "\n",
    "\n",
    "# b - d\n",
    "\n",
    "#hcopy,_ = np.histogram(p, bins=bins, density=False)\n",
    "#h, bins1 = np.histogram(p, bins=bins, density=True)\n",
    "h, bins1 = np.histogram(p, bins=bins, density=False)\n",
    "\n",
    "w = np.diff(bins1)\n",
    "\n",
    "\n",
    "H1Norm = h / np.sum(h*w)\n",
    "fig = plt.figure(figsize=(7,7))\n",
    "ax = fig.add_subplot(1,1,1)\n",
    "ax.bar( bins1[:-1]+0.5*w[0], H1Norm, color='b',  alpha=0.5, width=w, ec='k', label = 'Observed')\n",
    "\n",
    "\n",
    "a,b,c,d = exponweib.fit(p) \n",
    "media = exponweib.mean(a,b,c,d)\n",
    "print(f'a={a}, b={b}, c={c}, d={d}')\n",
    "# a = param. exponencial, b = potencia a la que se eleva, media, desv. est.\n",
    "x = np.linspace(min_, max_, 201)\n",
    "y = exponweib.pdf(x,a,b,c,d) # cambiar a weibull\n",
    "ax.plot(x, y, c='red',\n",
    "         label = f'Exponential Weibull a={round(a,2)}, b={round(b,2)}, media={round(media,2)}')\n",
    "    \n",
    "ax.set_title('lbox=5', fontsize=15)\n",
    "ax.legend()\n",
    "plt.xlabel('NSteps', fontsize=18)\n",
    "#plt.ylabel('Frecuencias', fontsize=16)\n",
    "\n",
    "\n",
    "# c\n",
    "\n",
    "H1Norm = h / np.sum(h*w)\n",
    "\n",
    "\n",
    "# e\n",
    "\n",
    "mean = exponweib.mean(a,b,c,d)\n",
    "print(f\"El valor medio de pasos según el ajuste de SciPy es {mean}\")\n"
   ]
  },
  {
   "cell_type": "code",
   "execution_count": 402,
   "metadata": {},
   "outputs": [
    {
     "name": "stdout",
     "output_type": "stream",
     "text": [
      "200\n",
      "10\n"
     ]
    },
    {
     "data": {
      "text/plain": [
       "<matplotlib.legend.Legend at 0x22a316befc8>"
      ]
     },
     "execution_count": 402,
     "metadata": {},
     "output_type": "execute_result"
    },
    {
     "data": {
      "image/png": "[encoded data removed]",
      "text/plain": [
       "<Figure size 504x504 with 1 Axes>"
      ]
     },
     "metadata": {
      "needs_background": "light"
     },
     "output_type": "display_data"
    }
   ],
   "source": [
    "# Expected (Esperado)\n",
    "ExpFreq = []\n",
    "for i in range(NSteps):\n",
    "    ExpFreq.append(exponweib.rvs(a,b,c,d))\n",
    "    \n",
    "print(len(ExpFreq))\n",
    "h2, bins2 = np.histogram(ExpFreq, bins = bins)\n",
    "print(len(h2))\n",
    "\n",
    "fig = plt.figure(figsize=(7,7))\n",
    "ax2 = fig.add_subplot()\n",
    "ax2.bar(bins1[:-1]+0.5*w[0], h2, alpha = 0.5, width = w, color = 'b',edgecolor='black', label='Expected')\n",
    "ax2.bar(bins1[:-1]+0.5*w[0], h, alpha = 0.3, width = w, color = 'r', edgecolor='black', label='Observed')\n",
    "ax2.set_xlabel('NSteps',size=14)\n",
    "ax2.set_title('lbox=5')\n",
    "ax2.legend()\n"
   ]
  },
  {
   "cell_type": "code",
   "execution_count": 403,
   "metadata": {},
   "outputs": [
    {
     "name": "stdout",
     "output_type": "stream",
     "text": [
      "46 50\n",
      "54 55\n",
      "37 42\n",
      "27 23\n",
      "15 15\n",
      "7 8\n",
      "5 2\n",
      "4 2\n",
      "3 0\n",
      "2 2\n",
      "g) El estadístico de prueba chi2 es: 1.75\n",
      "h) El valor crítico de la distribución chi2 con una significancia del 0.05 es: 9.487729036781154\n",
      "i) Como el estadístico de prueba es menor que el valor crítico, no rechazamos la hipótesis nula\n",
      "j) Se concluye que los datos siguen una distribución Weibull exponencial con un nivel de confianza del 95%\n"
     ]
    }
   ],
   "source": [
    "# f\n",
    "\n",
    "EP = 0\n",
    "NClases = 0\n",
    "\n",
    "for i, j in zip(h, h2):\n",
    "    print(i,j)\n",
    "    if i > 5 and j > 5: \n",
    "        NClases += 1\n",
    "        r = ((i-j)**2)/j \n",
    "        EP += r\n",
    "\n",
    "\n",
    "print(f\"g) El estadístico de prueba chi2 es: {round(EP,2)}\")\n",
    "\n",
    "df = NClases-1-1\n",
    "prob = chi2.cdf(EP, df = df)\n",
    "pvalue = 1 - prob\n",
    "\n",
    "upper = chi2.ppf(0.95, df = df)\n",
    "print(f\"h) El valor crítico de la distribución chi2 con una significancia del 0.05 es: {upper}\")\n",
    "\n",
    "\n",
    "conclusion1a = \"Como el estadístico de prueba es menor que el valor crítico, no rechazamos la hipótesis nula\"\n",
    "conclusion1b = \"Se concluye que los datos siguen una distribución Weibull exponencial con un nivel de confianza del 95%\"\n",
    "\n",
    "conclusion2a = \"Como el estadístico de prueba es mayor que el valor crítico, rechazamos la hipótesis nula\"\n",
    "conclusion2b = \"Se concluye que los datos no siguen una distribución Weibull exponencial con un nivel de confianza del 95%\"\n",
    "\n",
    "if (EP < upper):\n",
    "    print(f\"i) {conclusion1a}\")\n",
    "    print(f\"j) {conclusion1b}\")\n",
    "else:\n",
    "    print(f\"i) {conclusion2a}\")\n",
    "    print(f\"j) {conclusion2b}\")\n",
    "    \n",
    "    "
   ]
  }
 ],
 "metadata": {
  "interpreter": {
   "hash": "288f4093ab0eb81ea326f89440c9b9dd3665156acbe99d07c880a31460590ce6"
  },
  "kernelspec": {
   "display_name": "Python 3.7.7 64-bit",
   "language": "python",
   "name": "python3"
  },
  "language_info": {
   "codemirror_mode": {
    "name": "ipython",
    "version": 3
   },
   "file_extension": ".py",
   "mimetype": "text/x-python",
   "name": "python",
   "nbconvert_exporter": "python",
   "pygments_lexer": "ipython3",
   "version": "3.7.7"
  },
  "orig_nbformat": 4
 },
 "nbformat": 4,
 "nbformat_minor": 2
}

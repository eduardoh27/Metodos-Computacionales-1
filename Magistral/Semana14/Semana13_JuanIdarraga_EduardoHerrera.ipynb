{
 "cells": [
  {
   "cell_type": "code",
   "execution_count": 713,
   "metadata": {},
   "outputs": [],
   "source": [
    "import numpy as np\n",
    "import matplotlib.pyplot as plt\n",
    "from matplotlib import rc\n",
    "from tqdm import tqdm\n",
    "from scipy.stats import chi2\n",
    "from scipy.stats import norm\n",
    "from math import factorial\n",
    "from scipy.stats import exponweib\n",
    "\n",
    "\n",
    "\n",
    "def Actualizar_posc(theta: float, x: float, y: float):\n",
    "    lstep=0.4\n",
    "    x += lstep * np.cos(theta)\n",
    "    y += lstep * np.sin(theta)\n",
    "    \n",
    "    return x,y\n",
    "\n",
    "\n",
    "def experimento()->int:\n",
    "    #ang = np.random.uniform( 0,2*np.pi, size = 3000 )\n",
    "    x=0\n",
    "    y=0\n",
    "    pasos=0\n",
    "    while (x<=2.5 and y<=2.5 and x>= -2.5 and y>=-2.5):\n",
    "        ang = np.random.uniform( 0 , 2*np.pi)\n",
    "        x,y =Actualizar_posc(ang,x,y)\n",
    "        pasos+=1\n",
    "    return pasos\n"
   ]
  },
  {
   "cell_type": "code",
   "execution_count": 714,
   "metadata": {},
   "outputs": [
    {
     "name": "stdout",
     "output_type": "stream",
     "text": [
      "[96, 37, 40, 28, 42, 58, 130, 75, 180, 26, 13, 35, 54, 91, 43, 14, 136, 83, 23, 32, 143, 64, 24, 35, 107, 44, 21, 79, 18, 120, 19, 70, 34, 22, 75, 42, 43, 196, 107, 40, 76, 84, 25, 94, 35, 87, 83, 44, 65, 76, 47, 237, 39, 104, 32, 32, 35, 52, 37, 39, 43, 141, 62, 12, 102, 58, 46, 31, 42, 29, 41, 30, 24, 21, 49, 15, 42, 39, 24, 46, 47, 44, 65, 36, 62, 25, 38, 43, 25, 81, 25, 39, 24, 75, 59, 106, 59, 43, 46, 93, 113, 10, 46, 27, 18, 24, 60, 26, 29, 40, 19, 20, 38, 56, 44, 19, 15, 54, 21, 28, 53, 22, 19, 109, 23, 57, 62, 62, 19, 99, 11, 23, 101, 84, 27, 35, 37, 16, 35, 82, 40, 37, 115, 81, 107, 39, 50, 152, 20, 140, 72, 17, 20, 13, 53, 71, 73, 18, 46, 24, 24, 21, 60, 244, 44, 12, 47, 21, 36, 32, 16, 54, 15, 19, 69, 37, 14, 98, 33, 37, 20, 115, 18, 19, 25, 74, 196, 99, 47, 20, 57, 23, 36, 48, 148, 35, 19, 24, 40, 74]\n"
     ]
    }
   ],
   "source": [
    "p=[]\n",
    "NSteps = 200\n",
    "for i in range(NSteps):\n",
    "    p.append(experimento())\n",
    "print(p)\n",
    "\n",
    "min_ = np.min(p)\n",
    "max_ = np.max(p)\n",
    "h = 15\n"
   ]
  },
  {
   "cell_type": "code",
   "execution_count": 715,
   "metadata": {},
   "outputs": [
    {
     "name": "stdout",
     "output_type": "stream",
     "text": [
      "El valor medio de pasos según el ajuste es 53.68143842993736\n"
     ]
    },
    {
     "data": {
      "image/png": "[encoded data removed]",
      "text/plain": [
       "<Figure size 432x432 with 1 Axes>"
      ]
     },
     "metadata": {
      "needs_background": "light"
     },
     "output_type": "display_data"
    }
   ],
   "source": [
    "bins = np.arange(min_,max_+h,h)\n",
    "\n",
    "#x = np.linspace(0,6,7)\n",
    "\n",
    "hcopy,_ = np.histogram(p, bins=bins, density=False)\n",
    "h, bins1 = np.histogram(p, bins=bins, density=True)\n",
    "\n",
    "w = np.diff(bins1)\n",
    "fig = plt.figure(figsize=(6,6))\n",
    "ax = fig.add_subplot(1,1,1)\n",
    "ax.bar( bins1[:-1]+0.5*w[0], h, color='b', width=w, ec='k' )\n",
    "\n",
    "\n",
    "\n",
    "a,c,d,e = exponweib.fit(p) \n",
    "# a = param. exponencial, b = potencia a la que se eleva, media, desv. est.\n",
    "mean = exponweib.mean(a,c,d,e)\n",
    "print(f\"El valor medio de pasos según el ajuste es {mean}\")\n",
    "x = np.linspace(min_, max_, 201)\n",
    "y = exponweib.pdf(x,a,c,d,e) # cambiar a weibull\n",
    "plt.plot(x, y, c='red')\n",
    "    \n",
    "fig.suptitle('Frecuencias Observadas vs Ajuste Scipy', fontsize=20)\n",
    "plt.xlabel('Pasos', fontsize=18)\n",
    "plt.ylabel('Frecuencias', fontsize=16)\n",
    "\n",
    "H1Norm = h / np.sum(h*w)"
   ]
  },
  {
   "cell_type": "code",
   "execution_count": 716,
   "metadata": {},
   "outputs": [
    {
     "name": "stdout",
     "output_type": "stream",
     "text": [
      "200\n",
      "16\n"
     ]
    },
    {
     "data": {
      "text/plain": [
       "<BarContainer object of 16 artists>"
      ]
     },
     "execution_count": 716,
     "metadata": {},
     "output_type": "execute_result"
    },
    {
     "data": {
      "image/png": "[encoded data removed]",
      "text/plain": [
       "<Figure size 432x288 with 1 Axes>"
      ]
     },
     "metadata": {
      "needs_background": "light"
     },
     "output_type": "display_data"
    }
   ],
   "source": [
    "# Expected (Esperado)\n",
    "ExpFreq = []\n",
    "for i in range(NSteps):\n",
    "    ExpFreq.append(exponweib.rvs(a,c,d,e))\n",
    "    \n",
    "print(len(ExpFreq))\n",
    "h2, bins2 = np.histogram(ExpFreq, bins = bins)\n",
    "print(len(h2))\n",
    "\n",
    "fig = plt.figure()\n",
    "ax2 = fig.add_subplot()\n",
    "ax2.bar(bins1[:-1]+0.5*w[0], h2, alpha = 0.5, width = w, color = 'b')\n",
    "ax2.bar(bins1[:-1]+0.5*w[0], hcopy, alpha = 0.3, width = w, color = 'r')"
   ]
  },
  {
   "cell_type": "code",
   "execution_count": 717,
   "metadata": {},
   "outputs": [
    {
     "name": "stdout",
     "output_type": "stream",
     "text": [
      "16 15 7\n",
      "g) El estadístico de prueba chi2 es: 11.29\n",
      "h) El valor crítico de la distribución chi2 con una significancia del 0.05 es: 11.070497693516351\n",
      "i) Como el estadístico de prueba es mayor que el valor crítico, rechazamos la hipótesis nula\n",
      "j) Se concluye que los datos no siguen una distribución Weibull exponencial con un nivel de confianza del 95%\n"
     ]
    }
   ],
   "source": [
    "# e\n",
    "EP = 0\n",
    "NClases = 0\n",
    "\n",
    "for i, j in zip(hcopy, h2):\n",
    "    if i > 5 and j > 5: \n",
    "        NClases += 1\n",
    "        r = ((i-j)**2)/j \n",
    "        EP += r\n",
    "\n",
    "\n",
    "print(f\"g) El estadístico de prueba chi2 es: {round(EP,2)}\")\n",
    "\n",
    "df = NClases-1-1\n",
    "prob = chi2.cdf(EP, df = df)\n",
    "pvalue = 1 - prob\n",
    "\n",
    "upper = chi2.ppf(0.95, df = df)\n",
    "print(f\"h) El valor crítico de la distribución chi2 con una significancia del 0.05 es: {upper}\")\n",
    "\n",
    "\n",
    "conclusion1a = \"Como el estadístico de prueba es menor que el valor crítico, no rechazamos la hipótesis nula\"\n",
    "conclusion1b = \"Se concluye que los datos siguen una distribución Weibull exponencial con un nivel de confianza del 95%\"\n",
    "\n",
    "conclusion2a = \"Como el estadístico de prueba es mayor que el valor crítico, rechazamos la hipótesis nula\"\n",
    "conclusion2b = \"Se concluye que los datos no siguen una distribución Weibull exponencial con un nivel de confianza del 95%\"\n",
    "\n",
    "if (EP < upper):\n",
    "    print(f\"i) {conclusion1a}\")\n",
    "    print(f\"j) {conclusion1b}\")\n",
    "else:\n",
    "    print(f\"i) {conclusion2a}\")\n",
    "    print(f\"j) {conclusion2b}\")\n",
    "    \n",
    "    "
   ]
  }
 ],
 "metadata": {
  "interpreter": {
   "hash": "288f4093ab0eb81ea326f89440c9b9dd3665156acbe99d07c880a31460590ce6"
  },
  "kernelspec": {
   "display_name": "Python 3.7.7 64-bit",
   "language": "python",
   "name": "python3"
  },
  "language_info": {
   "codemirror_mode": {
    "name": "ipython",
    "version": 3
   },
   "file_extension": ".py",
   "mimetype": "text/x-python",
   "name": "python",
   "nbconvert_exporter": "python",
   "pygments_lexer": "ipython3",
   "version": "3.7.7"
  },
  "orig_nbformat": 4
 },
 "nbformat": 4,
 "nbformat_minor": 2
}

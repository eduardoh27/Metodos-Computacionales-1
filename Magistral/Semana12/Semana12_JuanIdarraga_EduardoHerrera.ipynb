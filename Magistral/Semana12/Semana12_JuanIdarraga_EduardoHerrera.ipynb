{
 "cells": [
  {
   "cell_type": "code",
   "execution_count": 11,
   "metadata": {},
   "outputs": [
    {
     "name": "stdout",
     "output_type": "stream",
     "text": [
      "11.009980260886275 43.28755883812881\n",
      "11.009980260886238\n",
      "[[18.2  0.1 -0.1]\n",
      " [ 0.1  4.  -0. ]\n",
      " [-0.1 -0.   8.3]]\n",
      "43.2875588381288\n"
     ]
    }
   ],
   "source": [
    "import numpy as np\n",
    "import matplotlib.pyplot as plt\n",
    "\n",
    "def Cov(data):\n",
    "    \n",
    "    Nvars = len(data[0])\n",
    "    \n",
    "    CovM = np.zeros( (Nvars,Nvars) )\n",
    "    \n",
    "    for i in range(Nvars):\n",
    "        for j in range(Nvars):\n",
    "            \n",
    "            # Tomar columna i y columna j\n",
    "            X = data[:,i]\n",
    "            Y = data[:,j]\n",
    "            \n",
    "            meanX = np.mean(X)\n",
    "            meanY = np.mean(Y)\n",
    "            \n",
    "            CovM[i,j] = np.mean( (X-meanX)*(Y-meanY)  )\n",
    "            \n",
    "    return CovM\n",
    "\n",
    "X = np.random.gamma( 2,3, 10000 )\n",
    "Y = np.random.normal( 5, 2, 10000 )\n",
    "Z = np.random.uniform( 0, 10, 10000 )\n",
    "\n",
    "# a) Método 1\n",
    "\n",
    "U = np.array([1,2,-1])\n",
    "W = U[0]*X + U[1]*Y + U[2]*Z\n",
    "\n",
    "meanw = np.mean(W)\n",
    "varw = np.std(W)**2\n",
    "\n",
    "print(meanw, varw)\n",
    "\n",
    "# b) Método 2\n",
    "\n",
    "data = np.zeros( (10000,3) )\n",
    "\n",
    "data[:,0] = X\n",
    "data[:,1] = Y \n",
    "data[:,2] = Z\n",
    "Ew = np.dot( U, np.mean(data,axis=0) )\n",
    "print(Ew)\n",
    "\n",
    "Cov_ = Cov(data)\n",
    "print(np.round(Cov_,1))\n",
    "\n",
    "\n",
    "temp = np.dot(U.T,Cov_)\n",
    "VarW_ = np.dot(temp,U)\n",
    "print(VarW_) "
   ]
  },
  {
   "cell_type": "code",
   "execution_count": 12,
   "metadata": {},
   "outputs": [
    {
     "name": "stdout",
     "output_type": "stream",
     "text": [
      "0.011051352057404224 -0.010875993316586912 -0.0036345732419579752\n"
     ]
    }
   ],
   "source": [
    "# c)\n",
    "\n",
    "# Coeficiente de correlación de Pearson de X y Y\n",
    "pearsonXY = Cov_[1][0] / (np.sqrt(Cov_[0][0]) * np.sqrt(Cov_[1][1]))\n",
    "\n",
    "# Coeficiente de correlación de Pearson de X y Z\n",
    "pearsonXZ = Cov_[2][0] / (np.sqrt(Cov_[0][0]) * np.sqrt(Cov_[2][2]))\n",
    "\n",
    "# Coeficiente de correlación de Pearson de Y y Z\n",
    "pearsonYZ = Cov_[2][1] / (np.sqrt(Cov_[1][1]) * np.sqrt(Cov_[2][2]))\n",
    "\n",
    "print(pearsonXY, pearsonXZ, pearsonYZ)"
   ]
  },
  {
   "cell_type": "code",
   "execution_count": 13,
   "metadata": {},
   "outputs": [
    {
     "name": "stdout",
     "output_type": "stream",
     "text": [
      "El resultado de integral evaluada en x entre 0 y 1, y entre 0 y 1 de la función de probabilidad de densidad conjunta es 1.00000000000000\n"
     ]
    }
   ],
   "source": [
    "import sympy as sym\n",
    "\n",
    "# Punto 2\n",
    "# a)\n",
    "x = sym.Symbol('x', Real=True)\n",
    "y = sym.Symbol('y', Real=True)\n",
    "pdf = 2/3 * (x + 2*y)\n",
    "integral = sym.integrate( sym.integrate(pdf, (x, 0, 1)), (y, 0, 1))\n",
    "print(f'El resultado de integral evaluada en x entre 0 y 1, y entre 0 y 1 \\\n",
    "de la función de probabilidad de densidad conjunta es {integral}')"
   ]
  },
  {
   "cell_type": "code",
   "execution_count": 14,
   "metadata": {},
   "outputs": [
    {
     "name": "stdout",
     "output_type": "stream",
     "text": [
      "g(x) = 0.666666666666667*x + 0.666666666666667\n",
      "h(y) = 1.33333333333333*y + 0.333333333333333\n"
     ]
    }
   ],
   "source": [
    "# b)\n",
    "gx = sym.integrate(pdf, (y, 0, 1))\n",
    "hy = sym.integrate(pdf, (x, 0, 1))\n",
    "print(f'g(x) = {gx}')\n",
    "print(f'h(y) = {hy}')"
   ]
  },
  {
   "cell_type": "code",
   "execution_count": 15,
   "metadata": {},
   "outputs": [
    {
     "name": "stdout",
     "output_type": "stream",
     "text": [
      "g(x)h(y) = 0.888888888888889*x*y + 0.222222222222222*x + 0.888888888888889*y + 0.222222222222222\n",
      "f(x,y) = 0.666666666666667*x + 1.33333333333333*y\n",
      "Como f(x,y) es distinto a g(x)h(y), las variables son independientes\n"
     ]
    }
   ],
   "source": [
    "# c) \n",
    "gxhy = sym.expand((gx*hy))\n",
    "print(f'g(x)h(y) = {gxhy}')\n",
    "print(f'f(x,y) = {pdf}')\n",
    "print(f'Como f(x,y) es distinto a g(x)h(y), \\\n",
    "las variables son independientes')"
   ]
  },
  {
   "cell_type": "code",
   "execution_count": 16,
   "metadata": {},
   "outputs": [
    {
     "name": "stdout",
     "output_type": "stream",
     "text": [
      "E(x) = 0.555555555555556\n"
     ]
    }
   ],
   "source": [
    "# d) \n",
    "Ex = sym.integrate(gx*x, (x, 0, 1))\n",
    "print(f'E(x) = {Ex}')"
   ]
  },
  {
   "cell_type": "code",
   "execution_count": 17,
   "metadata": {},
   "outputs": [
    {
     "name": "stdout",
     "output_type": "stream",
     "text": [
      "E(y) = 0.611111111111111\n"
     ]
    }
   ],
   "source": [
    "# e)\n",
    "Ey = sym.integrate(hy*y, (y, 0, 1))\n",
    "print(f'E(y) = {Ey}')"
   ]
  },
  {
   "cell_type": "code",
   "execution_count": 18,
   "metadata": {},
   "outputs": [
    {
     "name": "stdout",
     "output_type": "stream",
     "text": [
      "Cov_xy = -0.00617283950617281\n"
     ]
    }
   ],
   "source": [
    "# f)\n",
    "Exy = sym.integrate( sym.integrate(pdf*x*y, (y, 0, 1)), (x, 0, 1) )\n",
    "cov1 = Exy - Ex*Ey\n",
    "print(f'Cov_xy = {cov1}')"
   ]
  },
  {
   "cell_type": "code",
   "execution_count": 19,
   "metadata": {},
   "outputs": [
    {
     "name": "stdout",
     "output_type": "stream",
     "text": [
      "Cov_xy = -0.00617283950617285\n"
     ]
    }
   ],
   "source": [
    "# g)\n",
    "cov2 = sym.integrate( sym.integrate(pdf*(x  -Ex)*(y-Ey), (y, 0, 1)), (x, 0, 1) )\n",
    "print(f'Cov_xy = {cov2}')"
   ]
  }
 ],
 "metadata": {
  "interpreter": {
   "hash": "288f4093ab0eb81ea326f89440c9b9dd3665156acbe99d07c880a31460590ce6"
  },
  "kernelspec": {
   "display_name": "Python 3.7.7 64-bit",
   "name": "python3"
  },
  "language_info": {
   "codemirror_mode": {
    "name": "ipython",
    "version": 3
   },
   "file_extension": ".py",
   "mimetype": "text/x-python",
   "name": "python",
   "nbconvert_exporter": "python",
   "pygments_lexer": "ipython3",
   "version": "3.7.7"
  },
  "orig_nbformat": 4
 },
 "nbformat": 4,
 "nbformat_minor": 2
}

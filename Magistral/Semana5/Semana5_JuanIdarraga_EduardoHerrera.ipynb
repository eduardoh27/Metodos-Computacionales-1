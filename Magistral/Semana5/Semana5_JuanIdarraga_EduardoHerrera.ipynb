{
 "cells": [
  {
   "cell_type": "code",
   "execution_count": 6,
   "source": [
    "import numpy as np\r\n",
    "import matplotlib.pyplot as plt\r\n",
    "from matplotlib import rc\r\n",
    "\r\n",
    "f = lambda x: np.sqrt(1+np.exp(-x**2))\r\n",
    "\r\n",
    "xi, xf, Npoints = -1., 1., 300 # Debe ser múltiplo de 3\r\n",
    "\r\n",
    "X = np.linspace(xi,xf,Npoints+1)\r\n",
    "Y = f(X)\r\n",
    "\r\n",
    "def SimpsonMethod(f,X):\r\n",
    "   \r\n",
    "    h = (X[-1]-X[0])/(len(X)-1)\r\n",
    "   \r\n",
    "    integral = 0\r\n",
    "   \r\n",
    "    integral += f(X[0]) + f(X[-1])\r\n",
    "   \r\n",
    "    for i in range( len(X[1:-1]) ):\r\n",
    "       \r\n",
    "        if (i+1)%3 == 0:\r\n",
    "            integral += 2*f(X[i+1])\r\n",
    "       \r\n",
    "        else:\r\n",
    "            integral += 3*f(X[i+1])\r\n",
    "           \r\n",
    "    integral *= 3*h/8\r\n",
    "   \r\n",
    "    return integral, h\r\n",
    "\r\n",
    "Integral, _ = SimpsonMethod(f,X)\r\n",
    "print(\"The integral up to 10 decimals is \"+str(round(Integral,10)))\r\n",
    "#2.6388571169"
   ],
   "outputs": [
    {
     "output_type": "stream",
     "name": "stdout",
     "text": [
      "The integral up to 10 decimals is 2.6388571169\n"
     ]
    }
   ],
   "metadata": {}
  }
 ],
 "metadata": {
  "orig_nbformat": 4,
  "language_info": {
   "name": "python",
   "version": "3.7.7",
   "mimetype": "text/x-python",
   "codemirror_mode": {
    "name": "ipython",
    "version": 3
   },
   "pygments_lexer": "ipython3",
   "nbconvert_exporter": "python",
   "file_extension": ".py"
  },
  "kernelspec": {
   "name": "python3",
   "display_name": "Python 3.7.7 64-bit"
  },
  "interpreter": {
   "hash": "288f4093ab0eb81ea326f89440c9b9dd3665156acbe99d07c880a31460590ce6"
  }
 },
 "nbformat": 4,
 "nbformat_minor": 2
}
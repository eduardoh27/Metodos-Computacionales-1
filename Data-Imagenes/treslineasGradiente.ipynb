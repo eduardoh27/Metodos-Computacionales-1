{
 "cells": [
  {
   "cell_type": "code",
   "execution_count": 1,
   "id": "c4b0822c",
   "metadata": {},
   "outputs": [],
   "source": [
    "import numpy as np\n",
    "import matplotlib.pyplot as plt\n",
    "from matplotlib import rc\n",
    "from tqdm import tqdm"
   ]
  },
  {
   "cell_type": "code",
   "execution_count": 2,
   "id": "f7ae0229",
   "metadata": {},
   "outputs": [],
   "source": [
    "# Definamos el sistema usando una lista\n",
    "G = np.array([lambda x,y,z: 2*x - y -2,\n",
    "     lambda x,y,z: x + 2*y - 1 ,\n",
    "     lambda x,y,z: x + y - 4])"
   ]
  },
  {
   "cell_type": "code",
   "execution_count": 3,
   "id": "467c43c8",
   "metadata": {},
   "outputs": [],
   "source": [
    "def GetVectorG(G,r):\n",
    "    \n",
    "    dim = len(G)\n",
    "    \n",
    "    v = np.zeros( dim )\n",
    "    \n",
    "    for i in range(dim):\n",
    "        v[i] = G[i](r[0],r[1],r[2])\n",
    "    \n",
    "    return v"
   ]
  },
  {
   "cell_type": "code",
   "execution_count": 4,
   "id": "873a7752",
   "metadata": {},
   "outputs": [
    {
     "data": {
      "text/plain": [
       "array([-2., -1., -4.])"
      ]
     },
     "execution_count": 4,
     "metadata": {},
     "output_type": "execute_result"
    }
   ],
   "source": [
    "GetVectorG(G,[0,0,0])"
   ]
  },
  {
   "cell_type": "code",
   "execution_count": 5,
   "id": "5a331e0a",
   "metadata": {},
   "outputs": [],
   "source": [
    "def GetF(G,r):\n",
    "    v = GetVectorG(G,r)\n",
    "    # Calculando la funcion, que es el valor medio de la norma del vector de funciones   \n",
    "    return 0.5*np.sum( v**2 )"
   ]
  },
  {
   "cell_type": "code",
   "execution_count": 6,
   "id": "ccb1a12a",
   "metadata": {},
   "outputs": [
    {
     "data": {
      "text/plain": [
       "10.5"
      ]
     },
     "execution_count": 6,
     "metadata": {},
     "output_type": "execute_result"
    }
   ],
   "source": [
    "GetF(G,[0.,0.,0.])"
   ]
  },
  {
   "cell_type": "code",
   "execution_count": 7,
   "id": "b7627cb4",
   "metadata": {},
   "outputs": [],
   "source": [
    "def GetJacobian(G,r,h=0.0001):\n",
    "    \n",
    "    dim = len(G)\n",
    "    \n",
    "    J = np.zeros((dim,dim))\n",
    "    \n",
    "    for i in range(dim):\n",
    "        J[i,0] = (G[i](r[0]+h,r[1],r[2]) - G[i](r[0]-h,r[1],r[2]))/(2*h)  \n",
    "        J[i,1] = (G[i](r[0],r[1]+h,r[2]) - G[i](r[0],r[1]-h,r[2]))/(2*h) \n",
    "        J[i,2] = (G[i](r[0],r[1],r[2]+h) - G[i](r[0],r[1],r[2]-h))/(2*h) \n",
    "    \n",
    "    # Debemos retornar la traspuesta del Jacobiano, que representa el gradiente de la función vectorial\n",
    "    return J.T"
   ]
  },
  {
   "cell_type": "code",
   "execution_count": 8,
   "id": "3435d7d7",
   "metadata": {},
   "outputs": [
    {
     "name": "stdout",
     "output_type": "stream",
     "text": [
      "[[ 2.  1.  1.]\n",
      " [-1.  2.  1.]\n",
      " [ 0.  0.  0.]]\n"
     ]
    }
   ],
   "source": [
    "J = GetJacobian(G,[0,0,0])\n",
    "print(J)"
   ]
  },
  {
   "cell_type": "code",
   "execution_count": 20,
   "id": "c04268eb",
   "metadata": {},
   "outputs": [],
   "source": [
    "def GetSolve(G,r,lr=0.0001,error=1e-10, itmax = int(1e7)):\n",
    "    \n",
    "    it = 0\n",
    "    d = 1.\n",
    "    \n",
    "    F = []\n",
    "    \n",
    "    while d > error and it < itmax:\n",
    "        \n",
    "        \n",
    "        \n",
    "        it += 1\n",
    "        \n",
    "        CurrentF = GetF(G,r)\n",
    "        \n",
    "        J = GetJacobian(G,r)\n",
    "        GVector = GetVectorG(G,r)\n",
    "        \n",
    "        # Actualizamos la solución en contra del gradiente\n",
    "        r -= lr*np.dot(J,GVector) \n",
    "        \n",
    "        NewF = GetF(G,r)\n",
    "\n",
    "        F.append(NewF)\n",
    "        \n",
    "        # Actualizamos la distancia en el Rn\n",
    "        d = np.abs(CurrentF-NewF)/NewF\n",
    "        \n",
    "    if it == itmax:\n",
    "        print('convergencia no alcanzada')\n",
    "    \n",
    "    return r,it,F"
   ]
  },
  {
   "cell_type": "code",
   "execution_count": 21,
   "id": "04730cad",
   "metadata": {},
   "outputs": [
    {
     "name": "stdout",
     "output_type": "stream",
     "text": [
      "[1.42829756 0.42880057 0.        ] 15186\n"
     ]
    }
   ],
   "source": [
    "# Vamos a realizar el descenso de gradiente\n",
    "r = np.zeros(len(G)) \n",
    "xsol,it,F = GetSolve(G,r)\n",
    "print(xsol,it)"
   ]
  },
  {
   "cell_type": "code",
   "execution_count": 22,
   "id": "a1e54871",
   "metadata": {},
   "outputs": [
    {
     "data": {
      "text/plain": [
       "array([ 0.428,  1.286, -2.143])"
      ]
     },
     "execution_count": 22,
     "metadata": {},
     "output_type": "execute_result"
    }
   ],
   "source": [
    "np.round(GetVectorG(G,r),3)"
   ]
  },
  {
   "cell_type": "code",
   "execution_count": 23,
   "id": "1fee3318",
   "metadata": {},
   "outputs": [
    {
     "data": {
      "image/png": "[encoded data removed]",
      "text/plain": [
       "<Figure size 432x288 with 1 Axes>"
      ]
     },
     "metadata": {
      "needs_background": "light"
     },
     "output_type": "display_data"
    }
   ],
   "source": [
    "plt.plot(F)\n",
    "plt.xscale('log')\n",
    "plt.yscale('log')\n",
    "plt.xlabel(r'$iterations$', fontsize=15)\n",
    "plt.ylabel(r'$\\vec{F}(\\mathbf{x})$', fontsize=15)\n",
    "plt.grid()"
   ]
  },
  {
   "cell_type": "code",
   "execution_count": null,
   "id": "02adba45",
   "metadata": {},
   "outputs": [],
   "source": []
  },
  {
   "cell_type": "code",
   "execution_count": null,
   "id": "9261a7da",
   "metadata": {},
   "outputs": [],
   "source": []
  },
  {
   "cell_type": "code",
   "execution_count": null,
   "id": "16004094",
   "metadata": {},
   "outputs": [],
   "source": []
  }
 ],
 "metadata": {
  "kernelspec": {
   "display_name": "Python 3",
   "language": "python",
   "name": "python3"
  },
  "language_info": {
   "codemirror_mode": {
    "name": "ipython",
    "version": 3
   },
   "file_extension": ".py",
   "mimetype": "text/x-python",
   "name": "python",
   "nbconvert_exporter": "python",
   "pygments_lexer": "ipython3",
   "version": "3.8.2"
  }
 },
 "nbformat": 4,
 "nbformat_minor": 5
}
